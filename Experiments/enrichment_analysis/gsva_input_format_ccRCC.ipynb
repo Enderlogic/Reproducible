{
 "cells": [
  {
   "cell_type": "code",
   "execution_count": null,
   "id": "3c98adc8",
   "metadata": {},
   "outputs": [],
   "source": []
  },
  {
   "cell_type": "code",
   "execution_count": 1,
   "id": "3cb28d0b",
   "metadata": {},
   "outputs": [],
   "source": [
    "# mouse thymus\n",
    "import scanpy as sc\n",
    "import pandas as pd\n",
    "\n",
    "ad_met = sc.read_h5ad('/maiziezhou_lab2/yunfei/Projects/Spinal_MERFISH/GSVA/data_in/yangv2/ccRCC_Y7_T results (RNA+Metabolite)/adata_MET.h5ad')\n",
    "\n",
    "df = pd.read_csv('/maiziezhou_lab2/yunfei/Projects/Spinal_MERFISH/GSVA/data_in/yangv2/ccRCC_Y7_T results (RNA+Metabolite)/SpaMV_z_merged.csv', index_col=0)\n",
    "df['metabolite_group'] = df.idxmax(axis=1)\n",
    "df.loc[df['metabolite_group'].str.contains('Transcriptomics', case=False, na=False), 'metabolite_group'] = 'none'\n",
    "\n",
    "ad_met.obs['metabolite_group'] = df['metabolite_group'].reindex(ad_met.obs.index).fillna('none')\n",
    "# ad_protein.write('/maiziezhou_lab2/yunfei/Projects/Spinal_MERFISH/GSVA/data_in/yang/Dimension reduction results/Mouse Embryo results/adata_ADT_addgroups.h5ad')"
   ]
  },
  {
   "cell_type": "code",
   "execution_count": 2,
   "id": "94526576",
   "metadata": {},
   "outputs": [],
   "source": [
    "ad_st = sc.read_h5ad('/maiziezhou_lab2/yunfei/Projects/Spinal_MERFISH/GSVA/data_in/yangv2/ccRCC_Y7_T results (RNA+Metabolite)/adata_RNA.h5ad')\n",
    "\n",
    "df = pd.read_csv('/maiziezhou_lab2/yunfei/Projects/Spinal_MERFISH/GSVA/data_in/yangv2/ccRCC_Y7_T results (RNA+Metabolite)/SpaMV_z_merged.csv', index_col=0)\n",
    "df['transcriptomics_group'] = df.idxmax(axis=1)\n",
    "df.loc[df['transcriptomics_group'].str.contains('Metabolomics', case=False, na=False), 'transcriptomics_group'] = 'none'\n",
    "\n",
    "ad_st.obs['transcriptomics_group'] = df['transcriptomics_group'].reindex(ad_st.obs.index).fillna('none')\n",
    "# ad_st.write('/maiziezhou_lab2/yunfei/Projects/Spinal_MERFISH/GSVA/data_in/yangv2/Mouse Thymus results (RNA+Protein)/adata_RNA_addgroups.h5ad')"
   ]
  },
  {
   "cell_type": "code",
   "execution_count": 5,
   "id": "940d13a4",
   "metadata": {},
   "outputs": [
    {
     "data": {
      "text/plain": [
       "AnnData object with n_obs × n_vars = 2926 × 36404\n",
       "    obs: 'x_coord', 'y_coord', 'spot_name', 'total_intensity', 'mean_intensity', 'n_genes_by_counts', 'log1p_n_genes_by_counts', 'total_counts', 'log1p_total_counts', 'pct_counts_in_top_50_genes', 'pct_counts_in_top_100_genes', 'pct_counts_in_top_200_genes', 'pct_counts_in_top_500_genes', 'total_counts_mt', 'log1p_total_counts_mt', 'pct_counts_mt', 'n_counts', 'n_genes', 'transcriptomics_group'\n",
       "    var: 'name', 'type'\n",
       "    uns: 'spatial'\n",
       "    obsm: 'spatial'"
      ]
     },
     "execution_count": 5,
     "metadata": {},
     "output_type": "execute_result"
    }
   ],
   "source": [
    "ad_st"
   ]
  },
  {
   "cell_type": "code",
   "execution_count": 8,
   "id": "77b56e97",
   "metadata": {},
   "outputs": [
    {
     "data": {
      "text/plain": [
       "Index(['84.9116512767613', '85.02883948530474', '90.05540668809499',\n",
       "       '95.06068721922534', '96.92214801991757', '103.84179777843168',\n",
       "       '104.07103712024237', '104.08819755220308', '104.10721613216346',\n",
       "       '104.12642718272976',\n",
       "       ...\n",
       "       '810.531750847588', '811.5347314185645', '855.8542520311393',\n",
       "       '856.8573778121288', '857.8518942933273', '861.5535576423151',\n",
       "       '882.872958470506', '885.553757973446', '886.556970803666',\n",
       "       '887.563849728756'],\n",
       "      dtype='object', length=1299)"
      ]
     },
     "execution_count": 8,
     "metadata": {},
     "output_type": "execute_result"
    }
   ],
   "source": [
    "ad_met.var_names"
   ]
  },
  {
   "cell_type": "code",
   "execution_count": 3,
   "id": "b40ed0ff",
   "metadata": {},
   "outputs": [],
   "source": [
    "# Convert var_names to a regular pandas Index if it's not already\n",
    "ad_st.var_names = pd.Index(ad_st.var_names)\n",
    "\n",
    "# Step 1: Create a boolean mask for non-None entries\n",
    "valid_mask = [v is not None and v != \"None\" for v in ad_st.var_names]\n",
    "\n",
    "# Step 2: Subset AnnData to keep only valid var_names\n",
    "ad_st = ad_st[:, valid_mask].copy()\n",
    "\n",
    "# Step 1: Ensure var_names are unique in both AnnData objects\n",
    "ad_st.var_names_make_unique()\n",
    "ad_met.var_names_make_unique()\n",
    "\n",
    "# Step 2: Find common genes\n",
    "common_genes = ad_met.var_names.intersection(ad_st.var_names)\n",
    "\n",
    "# Step 3: Subset\n",
    "ad_st_subset = ad_st[:, common_genes].copy()\n",
    "ad_met_subset = ad_met[:, common_genes].copy()"
   ]
  },
  {
   "cell_type": "code",
   "execution_count": 4,
   "id": "2eb84d1f",
   "metadata": {},
   "outputs": [
    {
     "data": {
      "text/plain": [
       "AnnData object with n_obs × n_vars = 2926 × 0\n",
       "    obs: 'x_coord', 'y_coord', 'spot_name', 'total_intensity', 'mean_intensity', 'n_genes_by_counts', 'log1p_n_genes_by_counts', 'total_counts', 'log1p_total_counts', 'pct_counts_in_top_50_genes', 'pct_counts_in_top_100_genes', 'pct_counts_in_top_200_genes', 'pct_counts_in_top_500_genes', 'total_counts_mt', 'log1p_total_counts_mt', 'pct_counts_mt', 'n_counts', 'n_genes', 'transcriptomics_group'\n",
       "    var: 'name', 'type'\n",
       "    uns: 'spatial'\n",
       "    obsm: 'spatial'"
      ]
     },
     "execution_count": 4,
     "metadata": {},
     "output_type": "execute_result"
    }
   ],
   "source": [
    "ad_st_subset"
   ]
  }
 ],
 "metadata": {
  "kernelspec": {
   "display_name": "merfish_mSC",
   "language": "python",
   "name": "python3"
  },
  "language_info": {
   "codemirror_mode": {
    "name": "ipython",
    "version": 3
   },
   "file_extension": ".py",
   "mimetype": "text/x-python",
   "name": "python",
   "nbconvert_exporter": "python",
   "pygments_lexer": "ipython3",
   "version": "3.9.19"
  }
 },
 "nbformat": 4,
 "nbformat_minor": 5
}
