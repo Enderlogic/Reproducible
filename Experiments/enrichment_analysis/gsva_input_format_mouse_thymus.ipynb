{
 "cells": [
  {
   "cell_type": "markdown",
   "id": "76a9fccc",
   "metadata": {},
   "source": [
    "# add groups"
   ]
  },
  {
   "cell_type": "code",
   "execution_count": 1,
   "id": "4a71bbb2",
   "metadata": {},
   "outputs": [],
   "source": [
    "# mouse thymus\n",
    "import scanpy as sc\n",
    "import pandas as pd\n",
    "\n",
    "ad_protein = sc.read_h5ad('/maiziezhou_lab2/yunfei/Projects/Spinal_MERFISH/GSVA/data_in/yangv2/Mouse Thymus results (RNA+Protein)/adata_ADT.h5ad')\n",
    "\n",
    "df = pd.read_csv('/maiziezhou_lab2/yunfei/Projects/Spinal_MERFISH/GSVA/data_in/yangv2/Mouse Thymus results (RNA+Protein)/SpaMV_z.csv', index_col=0)\n",
    "df['protein_group'] = df.idxmax(axis=1)\n",
    "df.loc[df['protein_group'].str.contains('Transcriptomics', case=False, na=False), 'protein_group'] = 'none'\n",
    "\n",
    "ad_protein.obs['protein_group'] = df['protein_group'].reindex(ad_protein.obs.index).fillna('none')\n",
    "# ad_protein.write('/maiziezhou_lab2/yunfei/Projects/Spinal_MERFISH/GSVA/data_in/yang/Dimension reduction results/Mouse Embryo results/adata_ADT_addgroups.h5ad')"
   ]
  },
  {
   "cell_type": "code",
   "execution_count": 2,
   "id": "2984e299",
   "metadata": {},
   "outputs": [],
   "source": [
    "ad_st = sc.read_h5ad('/maiziezhou_lab2/yunfei/Projects/Spinal_MERFISH/GSVA/data_in/yangv2/Mouse Thymus results (RNA+Protein)/adata_RNA.h5ad')\n",
    "\n",
    "df = pd.read_csv('/maiziezhou_lab2/yunfei/Projects/Spinal_MERFISH/GSVA/data_in/yangv2/Mouse Thymus results (RNA+Protein)/SpaMV_z.csv', index_col=0)\n",
    "df['transcriptomics_group'] = df.idxmax(axis=1)\n",
    "df.loc[df['transcriptomics_group'].str.contains('Proteomics', case=False, na=False), 'transcriptomics_group'] = 'none'\n",
    "\n",
    "ad_st.obs['transcriptomics_group'] = df['transcriptomics_group'].reindex(ad_st.obs.index).fillna('none')\n",
    "# ad_st.write('/maiziezhou_lab2/yunfei/Projects/Spinal_MERFISH/GSVA/data_in/yangv2/Mouse Thymus results (RNA+Protein)/adata_RNA_addgroups.h5ad')"
   ]
  },
  {
   "cell_type": "code",
   "execution_count": 7,
   "id": "8d24c689",
   "metadata": {},
   "outputs": [
    {
     "data": {
      "text/plain": [
       "AnnData object with n_obs × n_vars = 4646 × 23960\n",
       "    obs: 'orig.ident', 'x', 'y', 'transcriptomics_group'\n",
       "    obsm: 'spatial'"
      ]
     },
     "execution_count": 7,
     "metadata": {},
     "output_type": "execute_result"
    }
   ],
   "source": [
    "ad_st"
   ]
  },
  {
   "cell_type": "code",
   "execution_count": 9,
   "id": "de422e1d",
   "metadata": {},
   "outputs": [
    {
     "data": {
      "text/plain": [
       "Index(['mouse_CD5', 'mouse_CD4', 'mouse_CD68', 'mouse_rat_CD29', 'mouse_CD8a',\n",
       "       'mouse_CD3', 'mouse_human_CD44', 'mouse_CD90_2', 'mouse_rat_human_CD27',\n",
       "       'mouse_CD11c', 'mouse_CD31', 'mouse_F4_80', 'Rat_IgG2a',\n",
       "       'mouse_human_CD45R_B220', 'mouse_CD19', 'mouse_human_CD11b',\n",
       "       'Mouse_IgG2a', 'mouse_Siglec_H', 'mouse_CD169_Siglec-1'],\n",
       "      dtype='object')"
      ]
     },
     "execution_count": 9,
     "metadata": {},
     "output_type": "execute_result"
    }
   ],
   "source": [
    "ad_protein.var_names"
   ]
  },
  {
   "cell_type": "markdown",
   "id": "3c519465",
   "metadata": {},
   "source": [
    "# select overlapping genes"
   ]
  },
  {
   "cell_type": "code",
   "execution_count": 13,
   "id": "4a609b38",
   "metadata": {},
   "outputs": [],
   "source": [
    "gene_names = [\n",
    "    \"Cd5\",\n",
    "    \"Cd4\",\n",
    "    \"Cd68\",\n",
    "    \"Itgb1\",\n",
    "    \"Cd8a\",\n",
    "    \"Cd3\",  # CD3 complex\n",
    "    \"Cd44\",\n",
    "    \"Thy1\",\n",
    "    \"Cd27\",\n",
    "    \"Itgax\",\n",
    "    \"Pecam1\",\n",
    "    \"Adgre1\",\n",
    "    \"None\",  # Rat_IgG2a – isotype control\n",
    "    \"Ptprc\",\n",
    "    \"Cd19\",\n",
    "    \"Itgam\",\n",
    "    \"None\",  # Mouse_IgG2a – isotype control\n",
    "    \"Siglech\",\n",
    "    \"Siglec1\"\n",
    "]\n",
    "\n",
    "ad_protein.var_names = gene_names"
   ]
  },
  {
   "cell_type": "code",
   "execution_count": 14,
   "id": "23a167ab",
   "metadata": {},
   "outputs": [],
   "source": [
    "# Convert var_names to a regular pandas Index if it's not already\n",
    "ad_st.var_names = pd.Index(ad_st.var_names)\n",
    "\n",
    "# Step 1: Create a boolean mask for non-None entries\n",
    "valid_mask = [v is not None and v != \"None\" for v in ad_st.var_names]\n",
    "\n",
    "# Step 2: Subset AnnData to keep only valid var_names\n",
    "ad_st = ad_st[:, valid_mask].copy()\n",
    "\n",
    "# Step 1: Ensure var_names are unique in both AnnData objects\n",
    "ad_st.var_names_make_unique()\n",
    "ad_protein.var_names_make_unique()\n",
    "\n",
    "# Step 2: Find common genes\n",
    "common_genes = ad_protein.var_names.intersection(ad_st.var_names)\n",
    "\n",
    "# Step 3: Subset\n",
    "ad_st_subset = ad_st[:, common_genes].copy()\n",
    "ad_protein_subset = ad_protein[:, common_genes].copy()"
   ]
  },
  {
   "cell_type": "code",
   "execution_count": 16,
   "id": "aca9cdd0",
   "metadata": {},
   "outputs": [
    {
     "data": {
      "text/plain": [
       "AnnData object with n_obs × n_vars = 4646 × 16\n",
       "    obs: 'orig.ident', 'x', 'y', 'transcriptomics_group'\n",
       "    obsm: 'spatial'"
      ]
     },
     "execution_count": 16,
     "metadata": {},
     "output_type": "execute_result"
    }
   ],
   "source": [
    "ad_st_subset"
   ]
  },
  {
   "cell_type": "code",
   "execution_count": 17,
   "id": "386a092d",
   "metadata": {},
   "outputs": [],
   "source": [
    "ad_st_subset.write(\"/maiziezhou_lab2/yunfei/Projects/Spinal_MERFISH/GSVA/data_in/yangv2/Mouse Thymus results (RNA+Protein)/adata_RNA_addgroups_match.h5ad\")\n",
    "ad_protein_subset.write(\"/maiziezhou_lab2/yunfei/Projects/Spinal_MERFISH/GSVA/data_in/yangv2/Mouse Thymus results (RNA+Protein)/adata_ADT_addgroups_match.h5ad\")"
   ]
  },
  {
   "cell_type": "markdown",
   "id": "53fa1fbf",
   "metadata": {},
   "source": [
    "# to GSVA input format"
   ]
  },
  {
   "cell_type": "code",
   "execution_count": 20,
   "id": "04cbfaff",
   "metadata": {},
   "outputs": [],
   "source": [
    "import numpy as np\n",
    "import os\n",
    "\n",
    "\n",
    "# adata_subset = sc.read_h5ad('/maiziezhou_lab2/yunfei/Projects/Spinal_MERFISH/GSVA/data_in/yang/Dimension reduction results/9_Mouse_Thymus/adata_ADT_addgroups_match.h5ad')\n",
    "# out_path = '/maiziezhou_lab2/yunfei/Projects/Spinal_MERFISH/GSVA/data_in/yang/mouse_thymus/mouse_thymus_protein_match'\n",
    "adata_subset = sc.read_h5ad('/maiziezhou_lab2/yunfei/Projects/Spinal_MERFISH/GSVA/data_in/yangv2/Mouse Thymus results (RNA+Protein)/adata_RNA_addgroups_match.h5ad')\n",
    "out_path = '/maiziezhou_lab2/yunfei/Projects/Spinal_MERFISH/GSVA/data_in/yangv2/Mouse Thymus results (RNA+Protein)/mouse_thymus_transcriptomics_match'\n",
    "\n",
    "os.makedirs(out_path, exist_ok=True)\n",
    "\n",
    "\n",
    "# Get a boolean mask: True for duplicates (excluding the first one)\n",
    "duplicates_mask = adata_subset.var.index.duplicated(keep='first')\n",
    "\n",
    "# Filter out duplicated genes from var and corresponding columns in X\n",
    "adata_subset._inplace_subset_var(~duplicates_mask)\n",
    "\n",
    "\n",
    "\n",
    "# Extract the expression matrix, sample data (phenotype), and feature data (genes)\n",
    "expression_matrix = adata_subset.X  # gene expression matrix (usually a sparse matrix)\n",
    "feature_data = adata_subset.var.astype(str)  # features (genes)\n",
    "phenotype_data = adata_subset.obs.astype(str)  # observations (samples)\n",
    "\n",
    "# Convert to DataFrame for easy handling\n",
    "expression_matrix_df = pd.DataFrame(expression_matrix.toarray())\n",
    "\n",
    "# Create a new index for the samples (1 to length of phenotype_data)\n",
    "new_index = [f\"cell{i+1}\" for i in range(len(phenotype_data))]\n",
    "\n",
    "# Create a mapping relation between the original index and the new index\n",
    "index_mapping = pd.DataFrame({\n",
    "    'Original Index': phenotype_data.index,\n",
    "    'New Index': new_index\n",
    "})\n",
    "\n",
    "# Update the index of expression_matrix_df\n",
    "expression_matrix_df.index = new_index  # sample names\n",
    "phenotype_data.index = new_index\n",
    "\n",
    "# Also update the columns (gene names)\n",
    "expression_matrix_df.columns = feature_data.index.astype(str)  # gene names\n",
    "\n",
    "# Save the updated DataFrame and the mapping relation as CSV\n",
    "expression_matrix_df.T.to_csv(os.path.join(out_path, 'expression_matrix.csv'))\n",
    "phenotype_data.to_csv(os.path.join(out_path, 'phenotype_data.csv'))\n",
    "feature_data.to_csv(os.path.join(out_path, 'feature_data.csv'))\n",
    "index_mapping.to_csv(os.path.join(out_path, 'index_mapping.csv'), index=False)"
   ]
  },
  {
   "cell_type": "code",
   "execution_count": 21,
   "id": "bbf05cc1",
   "metadata": {},
   "outputs": [],
   "source": [
    "import numpy as np\n",
    "import os\n",
    "\n",
    "\n",
    "adata_subset = sc.read_h5ad('/maiziezhou_lab2/yunfei/Projects/Spinal_MERFISH/GSVA/data_in/yangv2/Mouse Thymus results (RNA+Protein)/adata_ADT_addgroups_match.h5ad')\n",
    "out_path = '/maiziezhou_lab2/yunfei/Projects/Spinal_MERFISH/GSVA/data_in/yangv2/Mouse Thymus results (RNA+Protein)/mouse_thymus_protein_match'\n",
    "# adata_subset = sc.read_h5ad('/maiziezhou_lab2/yunfei/Projects/Spinal_MERFISH/GSVA/data_in/yangv2/Mouse Thymus results (RNA+Protein)/adata_RNA_addgroups_match.h5ad')\n",
    "# out_path = '/maiziezhou_lab2/yunfei/Projects/Spinal_MERFISH/GSVA/data_in/yangv2/Mouse Thymus results (RNA+Protein)/mouse_thymus_transcriptomics_match'\n",
    "\n",
    "os.makedirs(out_path, exist_ok=True)\n",
    "\n",
    "\n",
    "# Get a boolean mask: True for duplicates (excluding the first one)\n",
    "duplicates_mask = adata_subset.var.index.duplicated(keep='first')\n",
    "\n",
    "# Filter out duplicated genes from var and corresponding columns in X\n",
    "adata_subset._inplace_subset_var(~duplicates_mask)\n",
    "\n",
    "\n",
    "\n",
    "# Extract the expression matrix, sample data (phenotype), and feature data (genes)\n",
    "expression_matrix = adata_subset.X  # gene expression matrix (usually a sparse matrix)\n",
    "feature_data = adata_subset.var.astype(str)  # features (genes)\n",
    "phenotype_data = adata_subset.obs.astype(str)  # observations (samples)\n",
    "\n",
    "# Convert to DataFrame for easy handling\n",
    "expression_matrix_df = pd.DataFrame(expression_matrix.toarray())\n",
    "\n",
    "# Create a new index for the samples (1 to length of phenotype_data)\n",
    "new_index = [f\"cell{i+1}\" for i in range(len(phenotype_data))]\n",
    "\n",
    "# Create a mapping relation between the original index and the new index\n",
    "index_mapping = pd.DataFrame({\n",
    "    'Original Index': phenotype_data.index,\n",
    "    'New Index': new_index\n",
    "})\n",
    "\n",
    "# Update the index of expression_matrix_df\n",
    "expression_matrix_df.index = new_index  # sample names\n",
    "phenotype_data.index = new_index\n",
    "\n",
    "# Also update the columns (gene names)\n",
    "expression_matrix_df.columns = feature_data.index.astype(str)  # gene names\n",
    "\n",
    "# Save the updated DataFrame and the mapping relation as CSV\n",
    "expression_matrix_df.T.to_csv(os.path.join(out_path, 'expression_matrix.csv'))\n",
    "phenotype_data.to_csv(os.path.join(out_path, 'phenotype_data.csv'))\n",
    "feature_data.to_csv(os.path.join(out_path, 'feature_data.csv'))\n",
    "index_mapping.to_csv(os.path.join(out_path, 'index_mapping.csv'), index=False)"
   ]
  },
  {
   "cell_type": "code",
   "execution_count": null,
   "id": "96527038",
   "metadata": {},
   "outputs": [],
   "source": []
  },
  {
   "cell_type": "code",
   "execution_count": null,
   "id": "6ab6f920",
   "metadata": {},
   "outputs": [],
   "source": []
  },
  {
   "cell_type": "code",
   "execution_count": null,
   "id": "1a6d86f5",
   "metadata": {},
   "outputs": [],
   "source": []
  }
 ],
 "metadata": {
  "kernelspec": {
   "display_name": "merfish_mSC",
   "language": "python",
   "name": "python3"
  },
  "language_info": {
   "codemirror_mode": {
    "name": "ipython",
    "version": 3
   },
   "file_extension": ".py",
   "mimetype": "text/x-python",
   "name": "python",
   "nbconvert_exporter": "python",
   "pygments_lexer": "ipython3",
   "version": "3.9.19"
  }
 },
 "nbformat": 4,
 "nbformat_minor": 5
}
