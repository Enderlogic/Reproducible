{
 "cells": [
  {
   "cell_type": "code",
   "id": "initial_id",
   "metadata": {
    "collapsed": true,
    "jupyter": {
     "is_executing": true
    },
    "ExecuteTime": {
     "start_time": "2025-02-26T10:10:42.221723Z"
    }
   },
   "source": [
    "import os.path\n",
    "from Methods.SpatialGlue.preprocess import pca, clr_normalize_each_cell, construct_neighbor_graph\n",
    "import scanpy as sc\n",
    "from matplotlib import pyplot as plt\n",
    "from Methods.SpatialGlue.SpatialGlue_pyG import Train_SpatialGlue\n",
    "from Methods.SpatialGlue.utils import clustering\n",
    "from sklearn.metrics import adjusted_rand_score\n",
    "\n",
    "# load simulated dataset\n",
    "for dataset in ['1_Simulation', '2_Simulation', '3_Simulation']:\n",
    "    data_rna = sc.read_h5ad('../Dataset/' + dataset + '/adata_RNA.h5ad')\n",
    "    data_pro = sc.read_h5ad('../Dataset/' + dataset + '/adata_ADT.h5ad')\n",
    "\n",
    "    # RNA\n",
    "    sc.pp.filter_genes(data_rna, min_cells=10)\n",
    "    sc.pp.normalize_total(data_rna, target_sum=1e4)\n",
    "    sc.pp.log1p(data_rna)\n",
    "    sc.pp.scale(data_rna)\n",
    "    data_rna.obsm['feat'] = pca(data_rna, n_comps=50)\n",
    "\n",
    "    # Protein\n",
    "    data_pro = clr_normalize_each_cell(data_pro)\n",
    "    sc.pp.scale(data_pro)\n",
    "    data_pro.obsm['feat'] = pca(data_pro, n_comps=50)\n",
    "\n",
    "    data = construct_neighbor_graph(data_rna, data_pro)\n",
    "\n",
    "    model = Train_SpatialGlue(data, datatype='10x')\n",
    "\n",
    "    output = model.train()\n",
    "    data_rna.obsm['SpatialGlue'] = output['SpatialGlue']\n",
    "    clustering(data_rna, key='SpatialGlue', add_key='SpatialGlue', n_clusters=10, method='mclust', use_pca=True)\n",
    "\n",
    "    fig, ax_list = plt.subplots(1, 2, figsize=(8, 4))\n",
    "    sc.pp.neighbors(data_rna, use_rep='SpatialGlue', n_neighbors=30)\n",
    "    sc.tl.umap(data_rna)\n",
    "    sc.pl.umap(data_rna, color='SpatialGlue', ax=ax_list[0], title='SpatialGlue\\n' + dataset, s=60, show=False)\n",
    "    sc.pl.embedding(data_rna, basis='spatial', color='SpatialGlue', ax=ax_list[1], title='SpatialGlue\\n' + 'ARI: {:.3f}'.format(adjusted_rand_score(data_rna.obs['SpatialGlue'], data_rna.obs['cluster'])), s=200, show=False)\n",
    "\n",
    "    plt.tight_layout(w_pad=0.3)\n",
    "    result_folder = '../Results/' + dataset + '/'\n",
    "    if not os.path.exists(result_folder):\n",
    "        os.makedirs(result_folder, exist_ok=True)\n",
    "    plt.savefig(result_folder + 'SpatialGlue.pdf')\n",
    "    plt.show()"
   ],
   "outputs": [
    {
     "name": "stderr",
     "output_type": "stream",
     "text": [
      "  0%|          | 0/200 [00:00<?, ?it/s]/Users/ender/Library/CloudStorage/OneDrive-HongKongBaptistUniversity/postdoc/Formal/Methods/SpatialGlue/model.py:240: UserWarning: Implicit dimension choice for softmax has been deprecated. Change the call to include dim=X as an argument.\n",
      "  self.alpha = F.softmax(torch.squeeze(self.vu) + 1e-6)\n",
      " 34%|███▍      | 68/200 [00:08<00:13,  9.67it/s]"
     ]
    }
   ],
   "execution_count": null
  },
  {
   "metadata": {},
   "cell_type": "code",
   "outputs": [],
   "execution_count": null,
   "source": "",
   "id": "eb31711678f4e55d"
  }
 ],
 "metadata": {
  "kernelspec": {
   "display_name": "Python 3",
   "language": "python",
   "name": "python3"
  },
  "language_info": {
   "codemirror_mode": {
    "name": "ipython",
    "version": 2
   },
   "file_extension": ".py",
   "mimetype": "text/x-python",
   "name": "python",
   "nbconvert_exporter": "python",
   "pygments_lexer": "ipython2",
   "version": "2.7.6"
  }
 },
 "nbformat": 4,
 "nbformat_minor": 5
}
