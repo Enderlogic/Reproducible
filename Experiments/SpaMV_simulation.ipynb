{
 "cells": [
  {
   "cell_type": "code",
   "id": "initial_id",
   "metadata": {
    "collapsed": true,
    "jupyter": {
     "is_executing": true
    },
    "ExecuteTime": {
     "start_time": "2025-02-27T12:34:23.258361Z"
    }
   },
   "source": [
    "import os\n",
    "import random\n",
    "\n",
    "import anndata\n",
    "import torch\n",
    "from sklearn.metrics import adjusted_rand_score\n",
    "import torch.nn.functional as F\n",
    "from Methods.SpaMV.spamv import SpaMV\n",
    "from Methods.SpaMV.utils import pca, clr_normalize_each_cell, clustering\n",
    "import scanpy as sc\n",
    "import matplotlib.pyplot as plt\n",
    "import wandb\n",
    "\n",
    "os.environ[\"WANDB_SILENT\"] = \"true\"\n",
    "import logging\n",
    "\n",
    "loggers = [logging.getLogger(name) for name in logging.root.manager.loggerDict]\n",
    "for logger in loggers:\n",
    "    logger.setLevel(logging.WARN)\n",
    "device = torch.device(\"cuda:1\" if torch.cuda.is_available() else \"cpu\")\n",
    "for dataset in ['1_Simulation', '2_Simulation', '3_Simulation']:\n",
    "    data_rna = sc.read_h5ad('../Dataset/' + dataset + '/adata_RNA.h5ad')\n",
    "    data_pro = sc.read_h5ad('../Dataset/' + dataset + '/adata_ADT.h5ad')\n",
    "\n",
    "    sc.pp.normalize_total(data_rna, target_sum=1e4)\n",
    "    sc.pp.log1p(data_rna)\n",
    "    sc.pp.scale(data_rna)\n",
    "    adata_rna = anndata.AnnData(pca(data_rna, n_comps=30), obs=data_rna.obs, obsm=data_rna.obsm)\n",
    "    data_pro = clr_normalize_each_cell(data_pro)\n",
    "    sc.pp.scale(data_pro)\n",
    "    adata_pro = anndata.AnnData(pca(data_pro, n_comps=30), obs=data_pro.obs, obsm=data_pro.obsm)\n",
    "\n",
    "    wandb.init()\n",
    "    wandb.login()\n",
    "    model = SpaMV([adata_rna, adata_pro], interpretable=False, beta=[10, 10], neighborhood_embedding=0, max_epochs=600,\n",
    "                  recon_types=['gauss', 'gauss'], omics_names=['Transcriptomics', 'Proteomics'], random_seed=9182)\n",
    "    model.train()\n",
    "    wandb.finish()\n",
    "\n",
    "    output = model.get_embedding()\n",
    "    for emb_type in ['all', 'shared', 'Transcriptomics', 'Proteomics']:\n",
    "        name = 'SpaMV_' + emb_type\n",
    "        if emb_type == 'all':\n",
    "            adata_rna.obsm[name] = F.normalize(output, p=2, eps=1e-12, dim=1).detach().cpu().numpy()\n",
    "            n_clusters = 10\n",
    "        elif emb_type == 'shared':\n",
    "            adata_rna.obsm[name] = F.normalize(output[:, :32], p=2, eps=1e-12, dim=1).detach().cpu().numpy()\n",
    "            if dataset == '1_Simulation':\n",
    "                n_clusters = 8\n",
    "            elif dataset == '2_Simulation':\n",
    "                n_clusters = 6\n",
    "            elif dataset == '3_Simulation':\n",
    "                n_clusters = 4\n",
    "            else:\n",
    "                raise ValueError('Unknown dataset: {}'.format(dataset))\n",
    "        else:\n",
    "            if dataset == '1_Simulation':\n",
    "                n_clusters = 2\n",
    "            elif dataset == '2_Simulation':\n",
    "                n_clusters = 3\n",
    "            elif dataset == '3_Simulation':\n",
    "                n_clusters = 4\n",
    "            else:\n",
    "                raise ValueError('Unknown dataset: {}'.format(dataset))\n",
    "            adata_rna.obsm[name] = F.normalize(output[:, 32:64] if emb_type == 'Transcriptomics' else output[:, 64:],\n",
    "                                               p=2, eps=1e-12, dim=1).detach().cpu().numpy()\n",
    "        clustering(adata_rna, key=name, add_key=name, n_clusters=n_clusters, method='mclust', use_pca=True)\n",
    "        sc.pp.neighbors(adata_rna, use_rep=name, n_neighbors=30, key_added=name)\n",
    "    fig, ax_list = plt.subplots(2, 4, figsize=(12, 5))\n",
    "    i = 0\n",
    "    for emb_type in ['all', 'shared', 'Transcriptomics', 'Proteomics']:\n",
    "        name = 'SpaMV_' + emb_type\n",
    "        sc.tl.umap(adata_rna, neighbors_key=name)\n",
    "        sc.pl.umap(adata_rna, color=name, ax=ax_list[0][i], s=30, show=False)\n",
    "        sc.pl.embedding(adata_rna, color=name, basis='spatial', ax=ax_list[1][i], s=60, show=False,\n",
    "                        title=name + '\\nARI: {:.3f}'.format(adjusted_rand_score(adata_rna.obs['cluster'], adata_rna.obs[\n",
    "                            name])) if emb_type == 'all' else name)\n",
    "        i += 1\n",
    "    plt.tight_layout(w_pad=0.3)\n",
    "    # plt.savefig('Spamv_' + dataset + '_' + emb_type + '.pdf')\n",
    "    plt.show()\n",
    "    a = 1\n"
   ],
   "outputs": [
    {
     "name": "stdout",
     "output_type": "stream",
     "text": [
      "cpu\n"
     ]
    },
    {
     "name": "stderr",
     "output_type": "stream",
     "text": [
      "Epoch Loss:1069.254:  11%|█▏        | 68/600 [00:36<03:33,  2.50it/s]"
     ]
    }
   ],
   "execution_count": null
  },
  {
   "metadata": {},
   "cell_type": "code",
   "outputs": [],
   "execution_count": null,
   "source": "",
   "id": "7d36f9d4c99bf601"
  }
 ],
 "metadata": {
  "kernelspec": {
   "display_name": "Python 3",
   "language": "python",
   "name": "python3"
  },
  "language_info": {
   "codemirror_mode": {
    "name": "ipython",
    "version": 2
   },
   "file_extension": ".py",
   "mimetype": "text/x-python",
   "name": "python",
   "nbconvert_exporter": "python",
   "pygments_lexer": "ipython2",
   "version": "2.7.6"
  }
 },
 "nbformat": 4,
 "nbformat_minor": 5
}
